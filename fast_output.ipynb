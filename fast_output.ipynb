{
 "cells": [
  {
   "cell_type": "code",
   "execution_count": 51,
   "metadata": {},
   "outputs": [],
   "source": [
    "import torch\n",
    "from datasets.datasets import build_transfrom\n",
    "import os\n",
    "from pathlib import Path\n",
    "import numpy as np\n",
    "from petrel_client.client import Client as CephClient\n",
    "from PIL import Image\n",
    "from PIL import ImageFile\n",
    "ImageFile.LOAD_TRUNCATED_IMAGES = True\n",
    "\n",
    "from torchvision.transforms import ToPILImage, ColorJitter\n",
    "import io\n",
    "\n",
    "test_path = \"/mnt/cache/zhengjinliang/ElectricityMeter/real_test\"\n",
    "test_path = Path(test_path)\n",
    "img_path = []\n",
    "for path,dir_list,file_list in  os.walk(test_path): \n",
    "    for file in file_list:\n",
    "        img_path.append(test_path / file)\n",
    "\n",
    "img_path = np.string_(img_path)\n",
    "mclient = CephClient()\n",
    "transform = build_transfrom(False)\n"
   ]
  },
  {
   "cell_type": "code",
   "execution_count": 52,
   "metadata": {},
   "outputs": [
    {
     "name": "stderr",
     "output_type": "stream",
     "text": [
      "/mnt/cache/share/spring/conda_envs/miniconda3/envs/s0.3.4/lib/python3.6/site-packages/ipykernel_launcher.py:4: DeprecationWarning: The binary mode of fromstring is deprecated, as it behaves surprisingly on unicode inputs. Use frombuffer instead\n",
      "  after removing the cwd from sys.path.\n"
     ]
    }
   ],
   "source": [
    "def get_img(img_path):\n",
    "    img_path = str(img_path, encoding='utf-8')\n",
    "    value = mclient.Get(img_path)\n",
    "    img_bytes = np.fromstring(value, np.uint8)\n",
    "    buff = io.BytesIO(img_bytes)\n",
    "    with Image.open(buff) as img:\n",
    "        img = img.convert('RGB')\n",
    "    img, _ = transform(img, {\"boxes\": torch.tensor([0,0,0,0])})\n",
    "    \n",
    "    c, h, w = img.shape\n",
    "    return img\n",
    "\n",
    "get_img(img_path[-1])\n",
    "def run(img_path, vis = False):\n",
    "    img = get_img(img_path)\n",
    "    img = img.unsqueeze(0)\n",
    "    output = model(img, True)\n",
    "    box, final, cropped = output\n",
    "    text_class = text_classifier(cropped.tensors)\n",
    "    if vis:\n",
    "        print(final.softmax(-1).max(-1).indices)\n",
    "        print(text_class.softmax(-1).max(-1).indices)\n",
    "        print(box)\n",
    "        display(ToPILImage()(img.squeeze()))\n",
    "        display(ToPILImage()(cropped.tensors[0]))\n",
    "\n",
    "    final = final.softmax(-1).max(-1).indices.squeeze()\n",
    "\n",
    "    number = 0\n",
    "    for i in final:\n",
    "        number = number * 10 + (i % 10)\n",
    "    \n",
    "    if final[-1] == 10: number *= 10\n",
    "    return number.item() / 10\n",
    "def write(id, num):\n",
    "    with open(\"result.txt\", \"a+\") as f:\n",
    "        f.write(f\"{id},{num}\\n\")\n"
   ]
  },
  {
   "cell_type": "code",
   "execution_count": 53,
   "metadata": {},
   "outputs": [
    {
     "data": {
      "text/plain": [
       "<All keys matched successfully>"
      ]
     },
     "execution_count": 53,
     "metadata": {},
     "output_type": "execute_result"
    }
   ],
   "source": [
    "from models import build_model\n",
    "from easydict import EasyDict\n",
    "args = dict(backbone = \"resnet18\", position_embedding = 'sine', masks = False, dilation = False,\n",
    "    enc_layers=3, dec_layers=3, dim_feedforward=512, hidden_dim=192, dropout=0.1, nheads=6,\n",
    "    lr_backbone = 1e-4,    pre_norm=False, one_stage = False, multi_final = True\n",
    " )\n",
    "args = EasyDict(args)\n",
    "model = build_model(args)\n",
    "model = model[0]\n",
    "ckpt = torch.load(\"/mnt/cache/zhengjinliang/Ammeter/exp/good_4/ckpt2/checkpoint.pth\", map_location='cpu')\n",
    "model.load_state_dict(ckpt['model'])\n",
    "\n",
    "args = dict(backbone = \"resnet18\", position_embedding = 'sine', masks = False, dilation = False,\n",
    "    enc_layers=3, dec_layers=3, dim_feedforward=512, hidden_dim=192, dropout=0.1, nheads=6,\n",
    "    lr_backbone = 1e-4,    pre_norm=False, one_stage = True, multi_final = True\n",
    " )\n",
    "args = EasyDict(args)\n",
    "text_classifier = build_model(args)[0]\n",
    "ckpt = torch.load(\"/mnt/cache/zhengjinliang/Ammeter/exp/pretrain_4/ckpt2/checkpoint.pth\", map_location='cpu')\n",
    "text_classifier.load_state_dict(ckpt['model'])\n"
   ]
  },
  {
   "cell_type": "code",
   "execution_count": 54,
   "metadata": {},
   "outputs": [
    {
     "name": "stderr",
     "output_type": "stream",
     "text": [
      "/mnt/cache/share/spring/conda_envs/miniconda3/envs/s0.3.4/lib/python3.6/site-packages/ipykernel_launcher.py:4: DeprecationWarning: The binary mode of fromstring is deprecated, as it behaves surprisingly on unicode inputs. Use frombuffer instead\n",
      "  after removing the cwd from sys.path.\n"
     ]
    }
   ],
   "source": [
    "for id, path in enumerate(img_path):\n",
    "    try:\n",
    "        name = str(path).split('/')[-1].split('.')[0]\n",
    "        ans = run(path)\n",
    "        write(name, ans)\n",
    "    except:\n",
    "        print(f\"{path} is error\")"
   ]
  }
 ],
 "metadata": {
  "kernelspec": {
   "display_name": "Python 3.6.9 64-bit ('s0.3.4')",
   "language": "python",
   "name": "python3"
  },
  "language_info": {
   "codemirror_mode": {
    "name": "ipython",
    "version": 3
   },
   "file_extension": ".py",
   "mimetype": "text/x-python",
   "name": "python",
   "nbconvert_exporter": "python",
   "pygments_lexer": "ipython3",
   "version": "3.6.9"
  },
  "orig_nbformat": 4,
  "vscode": {
   "interpreter": {
    "hash": "4878ba3650fd9d38f1d2fa7f5a2db4a582755a38f12d4c2213451afbfb81acec"
   }
  }
 },
 "nbformat": 4,
 "nbformat_minor": 2
}
